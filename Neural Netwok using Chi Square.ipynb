{
 "cells": [
  {
   "cell_type": "code",
   "execution_count": 2,
   "id": "bc788a26",
   "metadata": {},
   "outputs": [],
   "source": [
    "import pandas as pd\n",
    "import numpy as np\n",
    "from sklearn.model_selection import KFold\n",
    "from sklearn.neural_network import MLPClassifier\n",
    "from sklearn.feature_selection import SelectKBest, chi2\n",
    "from sklearn.metrics import accuracy_score, precision_score, recall_score, confusion_matrix\n",
    "import matplotlib.pyplot as plt"
   ]
  },
  {
   "cell_type": "markdown",
   "id": "4743d438",
   "metadata": {},
   "source": [
    "## Cricles0.3.csv"
   ]
  },
  {
   "cell_type": "code",
   "execution_count": null,
   "id": "16d1c035",
   "metadata": {},
   "outputs": [],
   "source": [
    "data = pd.read_csv(\"circles0.3.csv\")\n"
   ]
  },
  {
   "cell_type": "code",
   "execution_count": null,
   "id": "02376c29",
   "metadata": {},
   "outputs": [],
   "source": [
    "X = data.drop(\"label\", axis=1)\n",
    "y = data[\"label\"]"
   ]
  },
  {
   "cell_type": "code",
   "execution_count": 3,
   "id": "664ebe10",
   "metadata": {},
   "outputs": [],
   "source": [
    "X_shifted = X - X.min()"
   ]
  },
  {
   "cell_type": "code",
   "execution_count": 4,
   "id": "259f85b7",
   "metadata": {},
   "outputs": [],
   "source": [
    "clf = MLPClassifier(hidden_layer_sizes=(50, 50), max_iter=1000)\n"
   ]
  },
  {
   "cell_type": "code",
   "execution_count": 5,
   "id": "7b54fb65",
   "metadata": {},
   "outputs": [],
   "source": [
    "chi2_selector = SelectKBest(score_func=chi2, k='all')"
   ]
  },
  {
   "cell_type": "code",
   "execution_count": 6,
   "id": "581cffdf",
   "metadata": {},
   "outputs": [],
   "source": [
    "kf = KFold(n_splits=10, shuffle=True, random_state=110123184)"
   ]
  },
  {
   "cell_type": "code",
   "execution_count": 7,
   "id": "2cde4392",
   "metadata": {},
   "outputs": [],
   "source": [
    "chi2_scores = []\n",
    "confusion_matrices = []"
   ]
  },
  {
   "cell_type": "code",
   "execution_count": 8,
   "id": "22a8c7d5",
   "metadata": {},
   "outputs": [],
   "source": [
    "X_chi2 = chi2_selector.fit_transform(X_shifted, y)"
   ]
  },
  {
   "cell_type": "code",
   "execution_count": 9,
   "id": "c094a3aa",
   "metadata": {},
   "outputs": [
    {
     "name": "stdout",
     "output_type": "stream",
     "text": [
      "Accuracy: 1.0\n",
      "PPV (Positive Predictive Value): 1.0\n",
      "NPV (Negative Predictive Value): 1.0\n",
      "Sensitivity: 1.0\n",
      "Specificity: 1.0\n",
      "Accuracy: 1.0\n",
      "PPV (Positive Predictive Value): 1.0\n",
      "NPV (Negative Predictive Value): 1.0\n",
      "Sensitivity: 1.0\n",
      "Specificity: 1.0\n",
      "Accuracy: 1.0\n",
      "PPV (Positive Predictive Value): 1.0\n",
      "NPV (Negative Predictive Value): 1.0\n",
      "Sensitivity: 1.0\n",
      "Specificity: 1.0\n",
      "Accuracy: 1.0\n",
      "PPV (Positive Predictive Value): 1.0\n",
      "NPV (Negative Predictive Value): 1.0\n",
      "Sensitivity: 1.0\n",
      "Specificity: 1.0\n",
      "Accuracy: 1.0\n",
      "PPV (Positive Predictive Value): 1.0\n",
      "NPV (Negative Predictive Value): 1.0\n",
      "Sensitivity: 1.0\n",
      "Specificity: 1.0\n",
      "Accuracy: 1.0\n",
      "PPV (Positive Predictive Value): 1.0\n",
      "NPV (Negative Predictive Value): 1.0\n",
      "Sensitivity: 1.0\n",
      "Specificity: 1.0\n",
      "Accuracy: 1.0\n",
      "PPV (Positive Predictive Value): 1.0\n",
      "NPV (Negative Predictive Value): 1.0\n",
      "Sensitivity: 1.0\n",
      "Specificity: 1.0\n",
      "Accuracy: 1.0\n",
      "PPV (Positive Predictive Value): 1.0\n",
      "NPV (Negative Predictive Value): 1.0\n",
      "Sensitivity: 1.0\n",
      "Specificity: 1.0\n",
      "Accuracy: 0.99\n",
      "PPV (Positive Predictive Value): 1.0\n",
      "NPV (Negative Predictive Value): 0.9807692307692307\n",
      "Sensitivity: 0.9795918367346939\n",
      "Specificity: 1.0\n",
      "Accuracy: 1.0\n",
      "PPV (Positive Predictive Value): 1.0\n",
      "NPV (Negative Predictive Value): 1.0\n",
      "Sensitivity: 1.0\n",
      "Specificity: 1.0\n"
     ]
    }
   ],
   "source": [
    "for train_index, test_index in kf.split(X_shifted, y):\n",
    "    X_train_chi2 = X_chi2[train_index]\n",
    "    X_test_chi2 = X_chi2[test_index]\n",
    "    y_train, y_test = y.iloc[train_index], y.iloc[test_index]\n",
    "\n",
    "    # Train the neural network with chi-square feature selection\n",
    "    clf.fit(X_train_chi2, y_train)\n",
    "\n",
    "    # Predict on the test set\n",
    "    y_pred = clf.predict(X_test_chi2)\n",
    "\n",
    "    # Calculate the metrics\n",
    "    accuracy = accuracy_score(y_test, y_pred)\n",
    "    ppv = precision_score(y_test, y_pred)\n",
    "    cm = confusion_matrix(y_test, y_pred)\n",
    "    tn, fp, fn, tp = cm.ravel()\n",
    "    sensitivity = tp / (tp + fn)\n",
    "    specificity = tn / (tn + fp)\n",
    "    npv = tn / (tn + fn)\n",
    "\n",
    "    chi2_scores.append(accuracy)\n",
    "    confusion_matrices.append(cm)\n",
    "\n",
    "    # Print the metrics\n",
    "    print(f'Accuracy: {accuracy}')\n",
    "    print(f'PPV (Positive Predictive Value): {ppv}')\n",
    "    print(f'NPV (Negative Predictive Value): {npv}')\n",
    "    print(f'Sensitivity: {sensitivity}')\n",
    "    print(f'Specificity: {specificity}')"
   ]
  },
  {
   "cell_type": "code",
   "execution_count": 10,
   "id": "8a7c1952",
   "metadata": {},
   "outputs": [
    {
     "name": "stdout",
     "output_type": "stream",
     "text": [
      "Mean Accuracy with Chi-Square Feature Selection: 0.999\n"
     ]
    }
   ],
   "source": [
    "mean_chi2_accuracy = np.mean(chi2_scores)\n",
    "print(\"Mean Accuracy with Chi-Square Feature Selection:\", mean_chi2_accuracy)"
   ]
  },
  {
   "cell_type": "code",
   "execution_count": 11,
   "id": "2f74b0f5",
   "metadata": {},
   "outputs": [
    {
     "data": {
      "image/png": "[encoded data removed]",
      "text/plain": [
       "<Figure size 432x288 with 1 Axes>"
      ]
     },
     "metadata": {
      "needs_background": "light"
     },
     "output_type": "display_data"
    }
   ],
   "source": [
    "# Plot the training and validation accuracy\n",
    "accuracy_history = [clf.score(X_chi2[train_index], y.iloc[train_index]) for train_index, _ in kf.split(X_shifted, y)]\n",
    "plt.plot(accuracy_history, label='Training Accuracy')\n",
    "plt.plot(chi2_scores, label='Validation Accuracy')\n",
    "plt.xlabel('Fold')\n",
    "plt.ylabel('Accuracy')\n",
    "plt.legend()\n",
    "plt.show()\n"
   ]
  },
  {
   "cell_type": "markdown",
   "id": "28f0190b",
   "metadata": {},
   "source": [
    "## moons1.csv"
   ]
  },
  {
   "cell_type": "code",
   "execution_count": 14,
   "id": "4597ab4d",
   "metadata": {},
   "outputs": [],
   "source": [
    "data = pd.read_csv(\"moons1.csv\")\n"
   ]
  },
  {
   "cell_type": "code",
   "execution_count": 15,
   "id": "761c12ef",
   "metadata": {},
   "outputs": [],
   "source": [
    "X = data.drop(\"label\", axis=1)\n",
    "y = data[\"label\"]"
   ]
  },
  {
   "cell_type": "code",
   "execution_count": 16,
   "id": "84b9180f",
   "metadata": {},
   "outputs": [],
   "source": [
    "X_shifted = X - X.min()"
   ]
  },
  {
   "cell_type": "code",
   "execution_count": 17,
   "id": "739950c4",
   "metadata": {},
   "outputs": [],
   "source": [
    "clf = MLPClassifier(hidden_layer_sizes=(50, 50), max_iter=1000)\n"
   ]
  },
  {
   "cell_type": "code",
   "execution_count": 18,
   "id": "0adecd26",
   "metadata": {},
   "outputs": [],
   "source": [
    "chi2_selector = SelectKBest(score_func=chi2, k='all')"
   ]
  },
  {
   "cell_type": "code",
   "execution_count": 19,
   "id": "030c8a35",
   "metadata": {},
   "outputs": [],
   "source": [
    "kf = KFold(n_splits=10, shuffle=True, random_state=110123184)"
   ]
  },
  {
   "cell_type": "code",
   "execution_count": 20,
   "id": "4cdb0028",
   "metadata": {},
   "outputs": [],
   "source": [
    "chi2_scores = []\n",
    "confusion_matrices = []"
   ]
  },
  {
   "cell_type": "code",
   "execution_count": 21,
   "id": "b0243a47",
   "metadata": {},
   "outputs": [],
   "source": [
    "X_chi2 = chi2_selector.fit_transform(X_shifted, y)"
   ]
  },
  {
   "cell_type": "code",
   "execution_count": 22,
   "id": "78c734b1",
   "metadata": {
    "scrolled": true
   },
   "outputs": [
    {
     "name": "stdout",
     "output_type": "stream",
     "text": [
      "Accuracy: 1.0\n",
      "PPV (Positive Predictive Value): 1.0\n",
      "NPV (Negative Predictive Value): 1.0\n",
      "Sensitivity: 1.0\n",
      "Specificity: 1.0\n",
      "Accuracy: 1.0\n",
      "PPV (Positive Predictive Value): 1.0\n",
      "NPV (Negative Predictive Value): 1.0\n",
      "Sensitivity: 1.0\n",
      "Specificity: 1.0\n",
      "Accuracy: 1.0\n",
      "PPV (Positive Predictive Value): 1.0\n",
      "NPV (Negative Predictive Value): 1.0\n",
      "Sensitivity: 1.0\n",
      "Specificity: 1.0\n",
      "Accuracy: 1.0\n",
      "PPV (Positive Predictive Value): 1.0\n",
      "NPV (Negative Predictive Value): 1.0\n",
      "Sensitivity: 1.0\n",
      "Specificity: 1.0\n",
      "Accuracy: 0.99\n",
      "PPV (Positive Predictive Value): 0.9777777777777777\n",
      "NPV (Negative Predictive Value): 1.0\n",
      "Sensitivity: 1.0\n",
      "Specificity: 0.9821428571428571\n",
      "Accuracy: 0.99\n",
      "PPV (Positive Predictive Value): 1.0\n",
      "NPV (Negative Predictive Value): 0.9787234042553191\n",
      "Sensitivity: 0.9814814814814815\n",
      "Specificity: 1.0\n",
      "Accuracy: 1.0\n",
      "PPV (Positive Predictive Value): 1.0\n",
      "NPV (Negative Predictive Value): 1.0\n",
      "Sensitivity: 1.0\n",
      "Specificity: 1.0\n",
      "Accuracy: 1.0\n",
      "PPV (Positive Predictive Value): 1.0\n",
      "NPV (Negative Predictive Value): 1.0\n",
      "Sensitivity: 1.0\n",
      "Specificity: 1.0\n",
      "Accuracy: 1.0\n",
      "PPV (Positive Predictive Value): 1.0\n",
      "NPV (Negative Predictive Value): 1.0\n",
      "Sensitivity: 1.0\n",
      "Specificity: 1.0\n",
      "Accuracy: 0.98\n",
      "PPV (Positive Predictive Value): 0.9818181818181818\n",
      "NPV (Negative Predictive Value): 0.9777777777777777\n",
      "Sensitivity: 0.9818181818181818\n",
      "Specificity: 0.9777777777777777\n"
     ]
    }
   ],
   "source": [
    "for train_index, test_index in kf.split(X_shifted, y):\n",
    "    X_train_chi2 = X_chi2[train_index]\n",
    "    X_test_chi2 = X_chi2[test_index]\n",
    "    y_train, y_test = y.iloc[train_index], y.iloc[test_index]\n",
    "\n",
    "    # Train the neural network with chi-square feature selection\n",
    "    clf.fit(X_train_chi2, y_train)\n",
    "\n",
    "    # Predict on the test set\n",
    "    y_pred = clf.predict(X_test_chi2)\n",
    "\n",
    "    # Calculate the metrics\n",
    "    accuracy = accuracy_score(y_test, y_pred)\n",
    "    ppv = precision_score(y_test, y_pred)\n",
    "    cm = confusion_matrix(y_test, y_pred)\n",
    "    tn, fp, fn, tp = cm.ravel()\n",
    "    sensitivity = tp / (tp + fn)\n",
    "    specificity = tn / (tn + fp)\n",
    "    npv = tn / (tn + fn)\n",
    "\n",
    "    chi2_scores.append(accuracy)\n",
    "    confusion_matrices.append(cm)\n",
    "\n",
    "    # Print the metrics\n",
    "    print(f'Accuracy: {accuracy}')\n",
    "    print(f'PPV (Positive Predictive Value): {ppv}')\n",
    "    print(f'NPV (Negative Predictive Value): {npv}')\n",
    "    print(f'Sensitivity: {sensitivity}')\n",
    "    print(f'Specificity: {specificity}')"
   ]
  },
  {
   "cell_type": "code",
   "execution_count": 23,
   "id": "4f4127f8",
   "metadata": {},
   "outputs": [
    {
     "name": "stdout",
     "output_type": "stream",
     "text": [
      "Mean Accuracy with Chi-Square Feature Selection: 0.9960000000000001\n"
     ]
    }
   ],
   "source": [
    "mean_chi2_accuracy = np.mean(chi2_scores)\n",
    "print(\"Mean Accuracy with Chi-Square Feature Selection:\", mean_chi2_accuracy)"
   ]
  },
  {
   "cell_type": "code",
   "execution_count": 24,
   "id": "9e831ace",
   "metadata": {},
   "outputs": [
    {
     "data": {
      "image/png": "[encoded data removed]",
      "text/plain": [
       "<Figure size 432x288 with 1 Axes>"
      ]
     },
     "metadata": {
      "needs_background": "light"
     },
     "output_type": "display_data"
    }
   ],
   "source": [
    "# Plot the training and validation accuracy\n",
    "accuracy_history = [clf.score(X_chi2[train_index], y.iloc[train_index]) for train_index, _ in kf.split(X_shifted, y)]\n",
    "plt.plot(accuracy_history, label='Training Accuracy')\n",
    "plt.plot(chi2_scores, label='Validation Accuracy')\n",
    "plt.xlabel('Fold')\n",
    "plt.ylabel('Accuracy')\n",
    "plt.legend()\n",
    "plt.show()\n"
   ]
  },
  {
   "cell_type": "markdown",
   "id": "ca4e780f",
   "metadata": {},
   "source": [
    "### spiral1.csv"
   ]
  },
  {
   "cell_type": "code",
   "execution_count": 27,
   "id": "4a2ed8ad",
   "metadata": {},
   "outputs": [],
   "source": [
    "data = pd.read_csv(\"spiral1.csv\")\n"
   ]
  },
  {
   "cell_type": "code",
   "execution_count": 28,
   "id": "bc95fb1a",
   "metadata": {},
   "outputs": [],
   "source": [
    "X = data.drop(\"label\", axis=1)\n",
    "y = data[\"label\"]"
   ]
  },
  {
   "cell_type": "code",
   "execution_count": 29,
   "id": "655f4e98",
   "metadata": {},
   "outputs": [],
   "source": [
    "X_shifted = X - X.min()"
   ]
  },
  {
   "cell_type": "code",
   "execution_count": 30,
   "id": "63082ad6",
   "metadata": {},
   "outputs": [],
   "source": [
    "clf = MLPClassifier(hidden_layer_sizes=(50, 50), max_iter=1000)\n"
   ]
  },
  {
   "cell_type": "code",
   "execution_count": 31,
   "id": "d89900a5",
   "metadata": {},
   "outputs": [],
   "source": [
    "chi2_selector = SelectKBest(score_func=chi2, k='all')"
   ]
  },
  {
   "cell_type": "code",
   "execution_count": 32,
   "id": "d8a18c3d",
   "metadata": {},
   "outputs": [],
   "source": [
    "kf = KFold(n_splits=10, shuffle=True, random_state=110123184)"
   ]
  },
  {
   "cell_type": "code",
   "execution_count": 33,
   "id": "7b283b69",
   "metadata": {},
   "outputs": [],
   "source": [
    "chi2_scores = []\n",
    "confusion_matrices = []"
   ]
  },
  {
   "cell_type": "code",
   "execution_count": 34,
   "id": "30fdd15b",
   "metadata": {},
   "outputs": [],
   "source": [
    "X_chi2 = chi2_selector.fit_transform(X_shifted, y)"
   ]
  },
  {
   "cell_type": "code",
   "execution_count": 35,
   "id": "bc8a6cb5",
   "metadata": {
    "scrolled": true
   },
   "outputs": [
    {
     "name": "stdout",
     "output_type": "stream",
     "text": [
      "Accuracy: 1.0\n",
      "PPV (Positive Predictive Value): 1.0\n",
      "NPV (Negative Predictive Value): 1.0\n",
      "Sensitivity: 1.0\n",
      "Specificity: 1.0\n",
      "Accuracy: 0.97\n",
      "PPV (Positive Predictive Value): 0.9807692307692307\n",
      "NPV (Negative Predictive Value): 0.9583333333333334\n",
      "Sensitivity: 0.9622641509433962\n",
      "Specificity: 0.9787234042553191\n",
      "Accuracy: 1.0\n",
      "PPV (Positive Predictive Value): 1.0\n",
      "NPV (Negative Predictive Value): 1.0\n",
      "Sensitivity: 1.0\n",
      "Specificity: 1.0\n",
      "Accuracy: 0.99\n",
      "PPV (Positive Predictive Value): 0.9761904761904762\n",
      "NPV (Negative Predictive Value): 1.0\n",
      "Sensitivity: 1.0\n",
      "Specificity: 0.9830508474576272\n",
      "Accuracy: 0.98\n",
      "PPV (Positive Predictive Value): 1.0\n",
      "NPV (Negative Predictive Value): 0.9661016949152542\n",
      "Sensitivity: 0.9534883720930233\n",
      "Specificity: 1.0\n",
      "Accuracy: 0.96\n",
      "PPV (Positive Predictive Value): 0.9811320754716981\n",
      "NPV (Negative Predictive Value): 0.9361702127659575\n",
      "Sensitivity: 0.9454545454545454\n",
      "Specificity: 0.9777777777777777\n",
      "Accuracy: 0.98\n",
      "PPV (Positive Predictive Value): 1.0\n",
      "NPV (Negative Predictive Value): 0.9607843137254902\n",
      "Sensitivity: 0.9607843137254902\n",
      "Specificity: 1.0\n",
      "Accuracy: 0.97\n",
      "PPV (Positive Predictive Value): 0.98\n",
      "NPV (Negative Predictive Value): 0.96\n",
      "Sensitivity: 0.9607843137254902\n",
      "Specificity: 0.9795918367346939\n",
      "Accuracy: 0.92\n",
      "PPV (Positive Predictive Value): 0.8947368421052632\n",
      "NPV (Negative Predictive Value): 0.9534883720930233\n",
      "Sensitivity: 0.9622641509433962\n",
      "Specificity: 0.8723404255319149\n",
      "Accuracy: 0.97\n",
      "PPV (Positive Predictive Value): 0.9795918367346939\n",
      "NPV (Negative Predictive Value): 0.9607843137254902\n",
      "Sensitivity: 0.96\n",
      "Specificity: 0.98\n"
     ]
    }
   ],
   "source": [
    "for train_index, test_index in kf.split(X_shifted, y):\n",
    "    X_train_chi2 = X_chi2[train_index]\n",
    "    X_test_chi2 = X_chi2[test_index]\n",
    "    y_train, y_test = y.iloc[train_index], y.iloc[test_index]\n",
    "\n",
    "    # Train the neural network with chi-square feature selection\n",
    "    clf.fit(X_train_chi2, y_train)\n",
    "\n",
    "    # Predict on the test set\n",
    "    y_pred = clf.predict(X_test_chi2)\n",
    "\n",
    "    # Calculate the metrics\n",
    "    accuracy = accuracy_score(y_test, y_pred)\n",
    "    ppv = precision_score(y_test, y_pred)\n",
    "    cm = confusion_matrix(y_test, y_pred)\n",
    "    tn, fp, fn, tp = cm.ravel()\n",
    "    sensitivity = tp / (tp + fn)\n",
    "    specificity = tn / (tn + fp)\n",
    "    npv = tn / (tn + fn)\n",
    "\n",
    "    chi2_scores.append(accuracy)\n",
    "    confusion_matrices.append(cm)\n",
    "\n",
    "    # Print the metrics\n",
    "    print(f'Accuracy: {accuracy}')\n",
    "    print(f'PPV (Positive Predictive Value): {ppv}')\n",
    "    print(f'NPV (Negative Predictive Value): {npv}')\n",
    "    print(f'Sensitivity: {sensitivity}')\n",
    "    print(f'Specificity: {specificity}')"
   ]
  },
  {
   "cell_type": "code",
   "execution_count": 36,
   "id": "834de5f9",
   "metadata": {},
   "outputs": [
    {
     "name": "stdout",
     "output_type": "stream",
     "text": [
      "Mean Accuracy with Chi-Square Feature Selection: 0.974\n"
     ]
    }
   ],
   "source": [
    "mean_chi2_accuracy = np.mean(chi2_scores)\n",
    "print(\"Mean Accuracy with Chi-Square Feature Selection:\", mean_chi2_accuracy)"
   ]
  },
  {
   "cell_type": "code",
   "execution_count": 37,
   "id": "6c8c0091",
   "metadata": {},
   "outputs": [
    {
     "data": {
      "image/png": "[encoded data removed]",
      "text/plain": [
       "<Figure size 432x288 with 1 Axes>"
      ]
     },
     "metadata": {
      "needs_background": "light"
     },
     "output_type": "display_data"
    }
   ],
   "source": [
    "# Plot the training and validation accuracy\n",
    "accuracy_history = [clf.score(X_chi2[train_index], y.iloc[train_index]) for train_index, _ in kf.split(X_shifted, y)]\n",
    "plt.plot(accuracy_history, label='Training Accuracy')\n",
    "plt.plot(chi2_scores, label='Validation Accuracy')\n",
    "plt.xlabel('Fold')\n",
    "plt.ylabel('Accuracy')\n",
    "plt.legend()\n",
    "plt.show()\n"
   ]
  },
  {
   "cell_type": "markdown",
   "id": "122f349c",
   "metadata": {},
   "source": [
    "## twogaussians33.csv"
   ]
  },
  {
   "cell_type": "code",
   "execution_count": 38,
   "id": "d8619e3f",
   "metadata": {},
   "outputs": [],
   "source": [
    "data = pd.read_csv(\"twogaussians33.csv\")\n"
   ]
  },
  {
   "cell_type": "code",
   "execution_count": 39,
   "id": "46df3657",
   "metadata": {},
   "outputs": [],
   "source": [
    "X = data.drop(\"label\", axis=1)\n",
    "y = data[\"label\"]"
   ]
  },
  {
   "cell_type": "code",
   "execution_count": 40,
   "id": "8616c543",
   "metadata": {},
   "outputs": [],
   "source": [
    "X_shifted = X - X.min()"
   ]
  },
  {
   "cell_type": "code",
   "execution_count": 41,
   "id": "7aec1e56",
   "metadata": {},
   "outputs": [],
   "source": [
    "clf = MLPClassifier(hidden_layer_sizes=(50, 50), max_iter=1000)\n"
   ]
  },
  {
   "cell_type": "code",
   "execution_count": 42,
   "id": "9ed824db",
   "metadata": {},
   "outputs": [],
   "source": [
    "chi2_selector = SelectKBest(score_func=chi2, k='all')"
   ]
  },
  {
   "cell_type": "code",
   "execution_count": 43,
   "id": "f3cd4e1f",
   "metadata": {},
   "outputs": [],
   "source": [
    "kf = KFold(n_splits=10, shuffle=True, random_state=110123184)"
   ]
  },
  {
   "cell_type": "code",
   "execution_count": 44,
   "id": "423240a2",
   "metadata": {},
   "outputs": [],
   "source": [
    "chi2_scores = []\n",
    "confusion_matrices = []"
   ]
  },
  {
   "cell_type": "code",
   "execution_count": 45,
   "id": "0139ba76",
   "metadata": {},
   "outputs": [],
   "source": [
    "X_chi2 = chi2_selector.fit_transform(X_shifted, y)"
   ]
  },
  {
   "cell_type": "code",
   "execution_count": 46,
   "id": "60f9c89d",
   "metadata": {
    "scrolled": true
   },
   "outputs": [
    {
     "name": "stdout",
     "output_type": "stream",
     "text": [
      "Accuracy: 0.99\n",
      "PPV (Positive Predictive Value): 1.0\n",
      "NPV (Negative Predictive Value): 0.9803921568627451\n",
      "Sensitivity: 0.98\n",
      "Specificity: 1.0\n",
      "Accuracy: 1.0\n",
      "PPV (Positive Predictive Value): 1.0\n",
      "NPV (Negative Predictive Value): 1.0\n",
      "Sensitivity: 1.0\n",
      "Specificity: 1.0\n",
      "Accuracy: 1.0\n",
      "PPV (Positive Predictive Value): 1.0\n",
      "NPV (Negative Predictive Value): 1.0\n",
      "Sensitivity: 1.0\n",
      "Specificity: 1.0\n",
      "Accuracy: 0.99\n",
      "PPV (Positive Predictive Value): 1.0\n",
      "NPV (Negative Predictive Value): 0.9795918367346939\n",
      "Sensitivity: 0.9807692307692307\n",
      "Specificity: 1.0\n",
      "Accuracy: 0.99\n",
      "PPV (Positive Predictive Value): 1.0\n",
      "NPV (Negative Predictive Value): 0.9795918367346939\n",
      "Sensitivity: 0.9807692307692307\n",
      "Specificity: 1.0\n",
      "Accuracy: 0.97\n",
      "PPV (Positive Predictive Value): 0.9787234042553191\n",
      "NPV (Negative Predictive Value): 0.9622641509433962\n",
      "Sensitivity: 0.9583333333333334\n",
      "Specificity: 0.9807692307692307\n",
      "Accuracy: 0.99\n",
      "PPV (Positive Predictive Value): 0.9767441860465116\n",
      "NPV (Negative Predictive Value): 1.0\n",
      "Sensitivity: 1.0\n",
      "Specificity: 0.9827586206896551\n",
      "Accuracy: 1.0\n",
      "PPV (Positive Predictive Value): 1.0\n",
      "NPV (Negative Predictive Value): 1.0\n",
      "Sensitivity: 1.0\n",
      "Specificity: 1.0\n",
      "Accuracy: 1.0\n",
      "PPV (Positive Predictive Value): 1.0\n",
      "NPV (Negative Predictive Value): 1.0\n",
      "Sensitivity: 1.0\n",
      "Specificity: 1.0\n",
      "Accuracy: 1.0\n",
      "PPV (Positive Predictive Value): 1.0\n",
      "NPV (Negative Predictive Value): 1.0\n",
      "Sensitivity: 1.0\n",
      "Specificity: 1.0\n"
     ]
    }
   ],
   "source": [
    "for train_index, test_index in kf.split(X_shifted, y):\n",
    "    X_train_chi2 = X_chi2[train_index]\n",
    "    X_test_chi2 = X_chi2[test_index]\n",
    "    y_train, y_test = y.iloc[train_index], y.iloc[test_index]\n",
    "\n",
    "    # Train the neural network with chi-square feature selection\n",
    "    clf.fit(X_train_chi2, y_train)\n",
    "\n",
    "    # Predict on the test set\n",
    "    y_pred = clf.predict(X_test_chi2)\n",
    "\n",
    "    # Calculate the metrics\n",
    "    accuracy = accuracy_score(y_test, y_pred)\n",
    "    ppv = precision_score(y_test, y_pred)\n",
    "    cm = confusion_matrix(y_test, y_pred)\n",
    "    tn, fp, fn, tp = cm.ravel()\n",
    "    sensitivity = tp / (tp + fn)\n",
    "    specificity = tn / (tn + fp)\n",
    "    npv = tn / (tn + fn)\n",
    "\n",
    "    chi2_scores.append(accuracy)\n",
    "    confusion_matrices.append(cm)\n",
    "\n",
    "    # Print the metrics\n",
    "    print(f'Accuracy: {accuracy}')\n",
    "    print(f'PPV (Positive Predictive Value): {ppv}')\n",
    "    print(f'NPV (Negative Predictive Value): {npv}')\n",
    "    print(f'Sensitivity: {sensitivity}')\n",
    "    print(f'Specificity: {specificity}')"
   ]
  },
  {
   "cell_type": "code",
   "execution_count": 47,
   "id": "8fcbcb22",
   "metadata": {},
   "outputs": [
    {
     "name": "stdout",
     "output_type": "stream",
     "text": [
      "Mean Accuracy with Chi-Square Feature Selection: 0.993\n"
     ]
    }
   ],
   "source": [
    "mean_chi2_accuracy = np.mean(chi2_scores)\n",
    "print(\"Mean Accuracy with Chi-Square Feature Selection:\", mean_chi2_accuracy)"
   ]
  },
  {
   "cell_type": "code",
   "execution_count": 48,
   "id": "f48250a8",
   "metadata": {},
   "outputs": [
    {
     "data": {
      "image/png": "[encoded data removed]",
      "text/plain": [
       "<Figure size 432x288 with 1 Axes>"
      ]
     },
     "metadata": {
      "needs_background": "light"
     },
     "output_type": "display_data"
    }
   ],
   "source": [
    "# Plot the training and validation accuracy\n",
    "accuracy_history = [clf.score(X_chi2[train_index], y.iloc[train_index]) for train_index, _ in kf.split(X_shifted, y)]\n",
    "plt.plot(accuracy_history, label='Training Accuracy')\n",
    "plt.plot(chi2_scores, label='Validation Accuracy')\n",
    "plt.xlabel('Fold')\n",
    "plt.ylabel('Accuracy')\n",
    "plt.legend()\n",
    "plt.show()\n"
   ]
  },
  {
   "cell_type": "markdown",
   "id": "6ac8fe0e",
   "metadata": {},
   "source": [
    "## twogaussians42.csv"
   ]
  },
  {
   "cell_type": "code",
   "execution_count": 49,
   "id": "73879da9",
   "metadata": {},
   "outputs": [],
   "source": [
    "data = pd.read_csv(\"twogaussians42.csv\")\n"
   ]
  },
  {
   "cell_type": "code",
   "execution_count": 50,
   "id": "e808f34d",
   "metadata": {},
   "outputs": [],
   "source": [
    "X = data.drop(\"label\", axis=1)\n",
    "y = data[\"label\"]"
   ]
  },
  {
   "cell_type": "code",
   "execution_count": 51,
   "id": "8579bc6a",
   "metadata": {},
   "outputs": [],
   "source": [
    "X_shifted = X - X.min()"
   ]
  },
  {
   "cell_type": "code",
   "execution_count": 52,
   "id": "60b6b6f0",
   "metadata": {},
   "outputs": [],
   "source": [
    "clf = MLPClassifier(hidden_layer_sizes=(50, 50), max_iter=1000)\n"
   ]
  },
  {
   "cell_type": "code",
   "execution_count": 53,
   "id": "0e8f1f64",
   "metadata": {},
   "outputs": [],
   "source": [
    "chi2_selector = SelectKBest(score_func=chi2, k='all')"
   ]
  },
  {
   "cell_type": "code",
   "execution_count": 54,
   "id": "c7f4bac3",
   "metadata": {},
   "outputs": [],
   "source": [
    "kf = KFold(n_splits=10, shuffle=True, random_state=110123184)"
   ]
  },
  {
   "cell_type": "code",
   "execution_count": 55,
   "id": "84fa2991",
   "metadata": {},
   "outputs": [],
   "source": [
    "chi2_scores = []\n",
    "confusion_matrices = []"
   ]
  },
  {
   "cell_type": "code",
   "execution_count": 56,
   "id": "912c7a5f",
   "metadata": {},
   "outputs": [],
   "source": [
    "X_chi2 = chi2_selector.fit_transform(X_shifted, y)"
   ]
  },
  {
   "cell_type": "code",
   "execution_count": 57,
   "id": "3caadf0b",
   "metadata": {
    "scrolled": true
   },
   "outputs": [
    {
     "name": "stdout",
     "output_type": "stream",
     "text": [
      "Accuracy: 0.95\n",
      "PPV (Positive Predictive Value): 1.0\n",
      "NPV (Negative Predictive Value): 0.9074074074074074\n",
      "Sensitivity: 0.9019607843137255\n",
      "Specificity: 1.0\n",
      "Accuracy: 0.94\n",
      "PPV (Positive Predictive Value): 0.9183673469387755\n",
      "NPV (Negative Predictive Value): 0.9607843137254902\n",
      "Sensitivity: 0.9574468085106383\n",
      "Specificity: 0.9245283018867925\n",
      "Accuracy: 0.96\n",
      "PPV (Positive Predictive Value): 0.9772727272727273\n",
      "NPV (Negative Predictive Value): 0.9464285714285714\n",
      "Sensitivity: 0.9347826086956522\n",
      "Specificity: 0.9814814814814815\n",
      "Accuracy: 0.93\n",
      "PPV (Positive Predictive Value): 0.975609756097561\n",
      "NPV (Negative Predictive Value): 0.8983050847457628\n",
      "Sensitivity: 0.8695652173913043\n",
      "Specificity: 0.9814814814814815\n",
      "Accuracy: 0.95\n",
      "PPV (Positive Predictive Value): 0.9565217391304348\n",
      "NPV (Negative Predictive Value): 0.9444444444444444\n",
      "Sensitivity: 0.9361702127659575\n",
      "Specificity: 0.9622641509433962\n",
      "Accuracy: 0.95\n",
      "PPV (Positive Predictive Value): 0.9607843137254902\n",
      "NPV (Negative Predictive Value): 0.9387755102040817\n",
      "Sensitivity: 0.9423076923076923\n",
      "Specificity: 0.9583333333333334\n",
      "Accuracy: 0.97\n",
      "PPV (Positive Predictive Value): 0.975609756097561\n",
      "NPV (Negative Predictive Value): 0.9661016949152542\n",
      "Sensitivity: 0.9523809523809523\n",
      "Specificity: 0.9827586206896551\n",
      "Accuracy: 0.94\n",
      "PPV (Positive Predictive Value): 0.9591836734693877\n",
      "NPV (Negative Predictive Value): 0.9215686274509803\n",
      "Sensitivity: 0.9215686274509803\n",
      "Specificity: 0.9591836734693877\n",
      "Accuracy: 0.9\n",
      "PPV (Positive Predictive Value): 0.9387755102040817\n",
      "NPV (Negative Predictive Value): 0.8627450980392157\n",
      "Sensitivity: 0.8679245283018868\n",
      "Specificity: 0.9361702127659575\n",
      "Accuracy: 0.94\n",
      "PPV (Positive Predictive Value): 1.0\n",
      "NPV (Negative Predictive Value): 0.8571428571428571\n",
      "Sensitivity: 0.90625\n",
      "Specificity: 1.0\n"
     ]
    }
   ],
   "source": [
    "for train_index, test_index in kf.split(X_shifted, y):\n",
    "    X_train_chi2 = X_chi2[train_index]\n",
    "    X_test_chi2 = X_chi2[test_index]\n",
    "    y_train, y_test = y.iloc[train_index], y.iloc[test_index]\n",
    "\n",
    "    # Train the neural network with chi-square feature selection\n",
    "    clf.fit(X_train_chi2, y_train)\n",
    "\n",
    "    # Predict on the test set\n",
    "    y_pred = clf.predict(X_test_chi2)\n",
    "\n",
    "    # Calculate the metrics\n",
    "    accuracy = accuracy_score(y_test, y_pred)\n",
    "    ppv = precision_score(y_test, y_pred)\n",
    "    cm = confusion_matrix(y_test, y_pred)\n",
    "    tn, fp, fn, tp = cm.ravel()\n",
    "    sensitivity = tp / (tp + fn)\n",
    "    specificity = tn / (tn + fp)\n",
    "    npv = tn / (tn + fn)\n",
    "\n",
    "    chi2_scores.append(accuracy)\n",
    "    confusion_matrices.append(cm)\n",
    "\n",
    "    # Print the metrics\n",
    "    print(f'Accuracy: {accuracy}')\n",
    "    print(f'PPV (Positive Predictive Value): {ppv}')\n",
    "    print(f'NPV (Negative Predictive Value): {npv}')\n",
    "    print(f'Sensitivity: {sensitivity}')\n",
    "    print(f'Specificity: {specificity}')"
   ]
  },
  {
   "cell_type": "code",
   "execution_count": 58,
   "id": "7fe9c0b0",
   "metadata": {},
   "outputs": [
    {
     "name": "stdout",
     "output_type": "stream",
     "text": [
      "Mean Accuracy with Chi-Square Feature Selection: 0.943\n"
     ]
    }
   ],
   "source": [
    "mean_chi2_accuracy = np.mean(chi2_scores)\n",
    "print(\"Mean Accuracy with Chi-Square Feature Selection:\", mean_chi2_accuracy)"
   ]
  },
  {
   "cell_type": "code",
   "execution_count": 59,
   "id": "86d77bad",
   "metadata": {},
   "outputs": [
    {
     "data": {
      "image/png": "[encoded data removed]",
      "text/plain": [
       "<Figure size 432x288 with 1 Axes>"
      ]
     },
     "metadata": {
      "needs_background": "light"
     },
     "output_type": "display_data"
    }
   ],
   "source": [
    "# Plot the training and validation accuracy\n",
    "accuracy_history = [clf.score(X_chi2[train_index], y.iloc[train_index]) for train_index, _ in kf.split(X_shifted, y)]\n",
    "plt.plot(accuracy_history, label='Training Accuracy')\n",
    "plt.plot(chi2_scores, label='Validation Accuracy')\n",
    "plt.xlabel('Fold')\n",
    "plt.ylabel('Accuracy')\n",
    "plt.legend()\n",
    "plt.show()\n"
   ]
  },
  {
   "cell_type": "markdown",
   "id": "0d589707",
   "metadata": {},
   "source": [
    "## halfkernel.csv"
   ]
  },
  {
   "cell_type": "code",
   "execution_count": 60,
   "id": "141534be",
   "metadata": {},
   "outputs": [],
   "source": [
    "data = pd.read_csv(\"halfkernel.csv\")\n"
   ]
  },
  {
   "cell_type": "code",
   "execution_count": 61,
   "id": "5ff3b8a6",
   "metadata": {},
   "outputs": [],
   "source": [
    "X = data.drop(\"label\", axis=1)\n",
    "y = data[\"label\"]"
   ]
  },
  {
   "cell_type": "code",
   "execution_count": 62,
   "id": "da6a49bf",
   "metadata": {},
   "outputs": [],
   "source": [
    "X_shifted = X - X.min()"
   ]
  },
  {
   "cell_type": "code",
   "execution_count": 63,
   "id": "c9a040cc",
   "metadata": {},
   "outputs": [],
   "source": [
    "clf = MLPClassifier(hidden_layer_sizes=(50, 50), max_iter=1000)\n"
   ]
  },
  {
   "cell_type": "code",
   "execution_count": 64,
   "id": "dbf9481e",
   "metadata": {},
   "outputs": [],
   "source": [
    "chi2_selector = SelectKBest(score_func=chi2, k='all')"
   ]
  },
  {
   "cell_type": "code",
   "execution_count": 65,
   "id": "56f410cc",
   "metadata": {},
   "outputs": [],
   "source": [
    "kf = KFold(n_splits=10, shuffle=True, random_state=110123184)"
   ]
  },
  {
   "cell_type": "code",
   "execution_count": 66,
   "id": "cabe27f2",
   "metadata": {},
   "outputs": [],
   "source": [
    "chi2_scores = []\n",
    "confusion_matrices = []"
   ]
  },
  {
   "cell_type": "code",
   "execution_count": 67,
   "id": "0571965c",
   "metadata": {},
   "outputs": [],
   "source": [
    "X_chi2 = chi2_selector.fit_transform(X_shifted, y)"
   ]
  },
  {
   "cell_type": "code",
   "execution_count": 68,
   "id": "bd6d43f6",
   "metadata": {
    "scrolled": true
   },
   "outputs": [
    {
     "name": "stdout",
     "output_type": "stream",
     "text": [
      "Accuracy: 1.0\n",
      "PPV (Positive Predictive Value): 1.0\n",
      "NPV (Negative Predictive Value): 1.0\n",
      "Sensitivity: 1.0\n",
      "Specificity: 1.0\n",
      "Accuracy: 1.0\n",
      "PPV (Positive Predictive Value): 1.0\n",
      "NPV (Negative Predictive Value): 1.0\n",
      "Sensitivity: 1.0\n",
      "Specificity: 1.0\n",
      "Accuracy: 1.0\n",
      "PPV (Positive Predictive Value): 1.0\n",
      "NPV (Negative Predictive Value): 1.0\n",
      "Sensitivity: 1.0\n",
      "Specificity: 1.0\n",
      "Accuracy: 1.0\n",
      "PPV (Positive Predictive Value): 1.0\n",
      "NPV (Negative Predictive Value): 1.0\n",
      "Sensitivity: 1.0\n",
      "Specificity: 1.0\n",
      "Accuracy: 1.0\n",
      "PPV (Positive Predictive Value): 1.0\n",
      "NPV (Negative Predictive Value): 1.0\n",
      "Sensitivity: 1.0\n",
      "Specificity: 1.0\n",
      "Accuracy: 1.0\n",
      "PPV (Positive Predictive Value): 1.0\n",
      "NPV (Negative Predictive Value): 1.0\n",
      "Sensitivity: 1.0\n",
      "Specificity: 1.0\n",
      "Accuracy: 1.0\n",
      "PPV (Positive Predictive Value): 1.0\n",
      "NPV (Negative Predictive Value): 1.0\n",
      "Sensitivity: 1.0\n",
      "Specificity: 1.0\n",
      "Accuracy: 1.0\n",
      "PPV (Positive Predictive Value): 1.0\n",
      "NPV (Negative Predictive Value): 1.0\n",
      "Sensitivity: 1.0\n",
      "Specificity: 1.0\n",
      "Accuracy: 1.0\n",
      "PPV (Positive Predictive Value): 1.0\n",
      "NPV (Negative Predictive Value): 1.0\n",
      "Sensitivity: 1.0\n",
      "Specificity: 1.0\n",
      "Accuracy: 1.0\n",
      "PPV (Positive Predictive Value): 1.0\n",
      "NPV (Negative Predictive Value): 1.0\n",
      "Sensitivity: 1.0\n",
      "Specificity: 1.0\n"
     ]
    }
   ],
   "source": [
    "for train_index, test_index in kf.split(X_shifted, y):\n",
    "    X_train_chi2 = X_chi2[train_index]\n",
    "    X_test_chi2 = X_chi2[test_index]\n",
    "    y_train, y_test = y.iloc[train_index], y.iloc[test_index]\n",
    "\n",
    "    # Train the neural network with chi-square feature selection\n",
    "    clf.fit(X_train_chi2, y_train)\n",
    "\n",
    "    # Predict on the test set\n",
    "    y_pred = clf.predict(X_test_chi2)\n",
    "\n",
    "    # Calculate the metrics\n",
    "    accuracy = accuracy_score(y_test, y_pred)\n",
    "    ppv = precision_score(y_test, y_pred)\n",
    "    cm = confusion_matrix(y_test, y_pred)\n",
    "    tn, fp, fn, tp = cm.ravel()\n",
    "    sensitivity = tp / (tp + fn)\n",
    "    specificity = tn / (tn + fp)\n",
    "    npv = tn / (tn + fn)\n",
    "\n",
    "    chi2_scores.append(accuracy)\n",
    "    confusion_matrices.append(cm)\n",
    "\n",
    "    # Print the metrics\n",
    "    print(f'Accuracy: {accuracy}')\n",
    "    print(f'PPV (Positive Predictive Value): {ppv}')\n",
    "    print(f'NPV (Negative Predictive Value): {npv}')\n",
    "    print(f'Sensitivity: {sensitivity}')\n",
    "    print(f'Specificity: {specificity}')"
   ]
  },
  {
   "cell_type": "code",
   "execution_count": 69,
   "id": "1d5856f7",
   "metadata": {},
   "outputs": [
    {
     "name": "stdout",
     "output_type": "stream",
     "text": [
      "Mean Accuracy with Chi-Square Feature Selection: 1.0\n"
     ]
    }
   ],
   "source": [
    "mean_chi2_accuracy = np.mean(chi2_scores)\n",
    "print(\"Mean Accuracy with Chi-Square Feature Selection:\", mean_chi2_accuracy)"
   ]
  },
  {
   "cell_type": "code",
   "execution_count": 70,
   "id": "17ded28f",
   "metadata": {},
   "outputs": [
    {
     "data": {
      "image/png": "[encoded data removed]",
      "text/plain": [
       "<Figure size 432x288 with 1 Axes>"
      ]
     },
     "metadata": {
      "needs_background": "light"
     },
     "output_type": "display_data"
    }
   ],
   "source": [
    "# Plot the training and validation accuracy\n",
    "accuracy_history = [clf.score(X_chi2[train_index], y.iloc[train_index]) for train_index, _ in kf.split(X_shifted, y)]\n",
    "plt.plot(accuracy_history, label='Training Accuracy')\n",
    "plt.plot(chi2_scores, label='Validation Accuracy')\n",
    "plt.xlabel('Fold')\n",
    "plt.ylabel('Accuracy')\n",
    "plt.legend()\n",
    "plt.show()\n"
   ]
  },
  {
   "cell_type": "code",
   "execution_count": null,
   "id": "69fb181e",
   "metadata": {},
   "outputs": [],
   "source": []
  }
 ],
 "metadata": {
  "kernelspec": {
   "display_name": "Python 3 (ipykernel)",
   "language": "python",
   "name": "python3"
  },
  "language_info": {
   "codemirror_mode": {
    "name": "ipython",
    "version": 3
   },
   "file_extension": ".py",
   "mimetype": "text/x-python",
   "name": "python",
   "nbconvert_exporter": "python",
   "pygments_lexer": "ipython3",
   "version": "3.9.12"
  }
 },
 "nbformat": 4,
 "nbformat_minor": 5
}
